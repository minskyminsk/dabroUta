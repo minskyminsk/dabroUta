{
 "cells": [
  {
   "cell_type": "code",
   "execution_count": 14,
   "metadata": {},
   "outputs": [
    {
     "name": "stdout",
     "output_type": "stream",
     "text": [
      "   salário bruto  (-)IR (5%)  (-)INSS (10%)  FGTS (11%)  descontos  líquido\n",
      "0         2189.0      109.45          218.9      240.79     328.35  1860.65\n"
     ]
    }
   ],
   "source": [
    "import pandas as pd\n",
    "\n",
    "bruto = float(input('Tá quanto a hora? kk ')) * 220\n",
    "\n",
    "if bruto <= 900:\n",
    "    IR = 0\n",
    "elif bruto > 900 <= 1500:\n",
    "    IR = bruto * (5/100)\n",
    "elif bruto >1500 <= 2500:\n",
    "    IR = bruto * (10/100)\n",
    "elif bruto > 2500:\n",
    "    IR = bruto * (20/100)\n",
    "\n",
    "INSS = bruto * (10/100)\n",
    "FGTS = bruto * (11/100)\n",
    "liquido = bruto - IR - INSS\n",
    "\n",
    "folha = pd.DataFrame([\n",
    "    {'salário bruto': bruto,'(-)IR (5%)': IR,'(-)INSS (10%)': INSS,'FGTS (11%)': FGTS,'descontos': IR + INSS,'líquido': liquido}])\n",
    "\n",
    "print (folha)"
   ]
  },
  {
   "cell_type": "code",
   "execution_count": 15,
   "metadata": {},
   "outputs": [
    {
     "name": "stdout",
     "output_type": "stream",
     "text": [
      "Valor inválido, insira uma número\n",
      "Valor inválido, insira uma número entre 0 e 10\n",
      "Valor aceito, sua nota é 5.0\n"
     ]
    }
   ],
   "source": [
    "#Faça um programa que peça uma nota, entre zero e dez. Mostre uma mensagem caso o valor seja inválido e continue pedindo até que o usuário informe um valor válido.\n",
    "\n",
    "\n",
    "while True:\n",
    "    try:\n",
    "        nota = float(input('Digite um nota entrte 0 e 10'))\n",
    "        if 0<= nota  <=10:\n",
    "            print (f'Valor aceito, sua nota é {nota}')\n",
    "            break\n",
    "        else:\n",
    "            print ('Valor inválido, insira uma número entre 0 e 10')\n",
    "    except ValueError:\n",
    "        print ('Valor inválido, insira uma número')"
   ]
  },
  {
   "cell_type": "code",
   "execution_count": 19,
   "metadata": {},
   "outputs": [
    {
     "name": "stdout",
     "output_type": "stream",
     "text": [
      "Cadastro realizado com sucesso! Usuário: asd, Senha: asq\n"
     ]
    }
   ],
   "source": [
    "#Faça um programa que leia um nome de usuário e a sua senha e não aceite a senha igual ao nome do usuário, mostrando uma mensagem de erro e voltando a pedir as informações.\n",
    "\n",
    "while True:\n",
    "    usr = input('Usuário: ')\n",
    "    pssw = input('Senha: ')\n",
    "    if usr != pssw:\n",
    "        print (f'Cadastro realizado com sucesso! Usuário: {usr}, Senha: {pssw}')\n",
    "        break\n",
    "    else:\n",
    "        print ('Erro! Você deve cadastrtar um usuário diferente da senha.')"
   ]
  },
  {
   "cell_type": "code",
   "execution_count": 1,
   "metadata": {},
   "outputs": [
    {
     "name": "stdout",
     "output_type": "stream",
     "text": [
      "Fernando é um nome válido\n",
      "Blz parça, cê tem 24 anos, então.\n",
      "Okay, seu salario é igual a R$2194.80\n",
      "Sexo igual a M\n",
      "Estado civil: C\n"
     ]
    }
   ],
   "source": [
    "\"\"\" - Faça um programa que leia e valide as seguintes informações:\n",
    "    1. Nome: maior que 3 caracteres;\n",
    "    2. Idade: entre 0 e 150;\n",
    "    3. Salário: maior que zero;\n",
    "    4. Sexo: 'f' ou 'm';\n",
    "    5. Estado Civil: 's', 'c', 'v', 'd'; \"\"\"\n",
    "\n",
    "while True:\n",
    "    nome = input('Qual é o seu nome? ')\n",
    "    if len(nome) > 3:\n",
    "        print (f'{nome} é um nome válido')\n",
    "        break\n",
    "    else:\n",
    "        print ('Erro! \"Nome\" precisa ter MAIS de 3 caracteres!')\n",
    "while True:\n",
    "    try:\n",
    "        idade = input('Qual a sua idade?')\n",
    "        if 0 <= int(idade) <= 150:\n",
    "            print (f'Blz parça, cê tem {idade} anos, então.')\n",
    "            break\n",
    "        else:\n",
    "            print ('Cê só pode ter entre 0 e 150 anos!')\n",
    "    except ValueError:\n",
    "        print('Erro!')\n",
    "while True:\n",
    "    salario = input('Informe o seu salário? ')\n",
    "    if float(salario) > 0:\n",
    "        print (f'Okay, seu salario é igual a R${salario}')\n",
    "        break\n",
    "    else:\n",
    "        print ('Insira um valor válido')\n",
    "while True:\n",
    "    sexo = input('Insira seu sexo (f ou m):')\n",
    "    if (sexo) == 'F' or 'M':\n",
    "        print (f'Sexo igual a {sexo.upper()}')\n",
    "        break\n",
    "    else:\n",
    "        print ('Insira \"F\" para Feminino ou \"M\" para Masculino')\n",
    "while True:\n",
    "    estadoCivil = input('Estado civil (\"c\", \"s\", \"v\", \"d\")')\n",
    "    if estadoCivil in 'csvdCSVD':\n",
    "        print (f'Estado civil: {estadoCivil.upper()}')\n",
    "        break\n",
    "    else:\n",
    "        print ('Insira \"C\" para casado, \"S\" para solteiro, \"V\" para viúvo ou \"D\" para divorciado')"
   ]
  },
  {
   "cell_type": "code",
   "execution_count": 2,
   "metadata": {},
   "outputs": [
    {
     "name": "stdout",
     "output_type": "stream",
     "text": [
      "   população A  população B  ano\n",
      "0       515033       510964   63\n"
     ]
    }
   ],
   "source": [
    "\"\"\" Supondo que a população de um país A seja da ordem de 80000 habitantes com uma taxa anual de crescimento de 3% e que a população de B seja 200000 habitantes com uma taxa de crescimento de 1.5%. Faça um programa que calcule e escreva o número de anos necessários para que a população do país A ultrapasse ou iguale a população do país B, mantidas as taxas de crescimento. \"\"\"\n",
    "\n",
    "import pandas as pd\n",
    "\n",
    "crescimentoA = 0.03\n",
    "crescimentoB = 0.015\n",
    "\n",
    "paisA = 80000\n",
    "paisB = 200000\n",
    "\n",
    "ano = 0\n",
    "\n",
    "while paisA < paisB:\n",
    "    paisA += paisA * crescimentoA\n",
    "    paisB += paisB * crescimentoB\n",
    "    ano += 1\n",
    "    tab = pd.DataFrame([{\n",
    "        'população A': int(paisA),\n",
    "        'população B': int(paisB), \n",
    "        'ano':ano\n",
    "}])\n",
    "    \n",
    "print (tab)\n",
    "    #print (f'população A {int(paisA)} população B {int(paisB)} ano {ano}')"
   ]
  },
  {
   "cell_type": "code",
   "execution_count": 1,
   "metadata": {},
   "outputs": [
    {
     "name": "stdout",
     "output_type": "stream",
     "text": [
      "      população A     população B  ano\n",
      "0  [250000, 0.03]  [300000, 0.05]  504\n"
     ]
    }
   ],
   "source": [
    "\n",
    "import pandas as pd\n",
    "\n",
    "taxa_A = float(input('Qual é a taxa de crescimento populacional da primeira cidade?'))\n",
    "taxa_B = float(input('Qual é a taxa de crescimento populacional da cidade que quer comparar?'))\n",
    "\n",
    "pais_A = int(input('Qual é a população da sua cidade'))\n",
    "pais_B = int(input('Qual é a população da cidade que quer comparar'))\n",
    "\n",
    "lst1 = [pais_A, (taxa_A/100)]\n",
    "lst2 = [pais_B, (taxa_B/100)]\n",
    "\n",
    "ano = 0\n",
    "\n",
    "if pais_A < pais_B:\n",
    "    while pais_A < pais_B:\n",
    "        pais_A += pais_A * taxa_A\n",
    "        pais_B += pais_B * taxa_B\n",
    "        ano += 1\n",
    "        tab = pd.DataFrame([{\n",
    "            'população A': lst1,\n",
    "            'população B': lst2, \n",
    "            'ano':ano\n",
    "    }])      \n",
    "if pais_A > pais_B:\n",
    "    while pais_A > pais_B:\n",
    "        pais_A += pais_A * taxa_A\n",
    "        pais_B += pais_B * taxa_B\n",
    "        ano += 1\n",
    "        tab = pd.DataFrame([{\n",
    "            'população A': lst1,\n",
    "            'população B': lst2, \n",
    "            'ano':ano\n",
    "    }])\n",
    "        \n",
    "print (tab)"
   ]
  },
  {
   "cell_type": "code",
   "execution_count": 3,
   "metadata": {},
   "outputs": [
    {
     "name": "stdout",
     "output_type": "stream",
     "text": [
      "1\n",
      "2\n",
      "3\n",
      "4\n",
      "5\n",
      "6\n",
      "7\n",
      "8\n",
      "9\n",
      "10\n",
      "11\n",
      "12\n",
      "13\n",
      "14\n",
      "15\n",
      "16\n",
      "17\n",
      "18\n",
      "19\n",
      "20\n"
     ]
    }
   ],
   "source": [
    "#Faça um programa que imprima na tela os números de 1 a 20, um abaixo do outro. Depois modifique o programa para que ele mostre os números um ao lado do outro.\n",
    "\n",
    "#imprimir na tela número de 1 a 20\n",
    "num = 0\n",
    "\n",
    "while num < 20:\n",
    "    num += 1\n",
    "    print (num)\n",
    "    "
   ]
  },
  {
   "cell_type": "code",
   "execution_count": 21,
   "metadata": {},
   "outputs": [
    {
     "name": "stdout",
     "output_type": "stream",
     "text": [
      "[1, 2, 3, 4, 5, 6, 7, 8, 9, 10, 11, 12, 13, 14, 15, 16, 17, 18, 19, 20]\n"
     ]
    }
   ],
   "source": [
    "#Faça um programa que imprima na tela os números de 1 a 20, um abaixo do outro. Depois modifique o programa para que ele mostre os números um ao lado do outro.\n",
    "\n",
    "# Imprimir ded 1 a 20 lado a lado\n",
    "num = list(range(1, 21, 1))\n",
    "print (num)"
   ]
  },
  {
   "cell_type": "code",
   "execution_count": 30,
   "metadata": {},
   "outputs": [
    {
     "name": "stdout",
     "output_type": "stream",
     "text": [
      "[0, 5, 10, 15, 20, 25, 30, 35, 40, 45, 50]\n",
      "o maior número é 50\n"
     ]
    }
   ],
   "source": [
    "#Faça um programa que leia 5 números e informe o maior número.\n",
    "\n",
    "#ler 5 números\n",
    "num = list(range(0, 51, 5))\n",
    "print (num)\n",
    "\n",
    "#informar o maior\n",
    "print (f'o maior número é {max(num)}')"
   ]
  },
  {
   "cell_type": "code",
   "execution_count": 3,
   "metadata": {},
   "outputs": [
    {
     "name": "stdout",
     "output_type": "stream",
     "text": [
      "47\n",
      "9.4\n"
     ]
    }
   ],
   "source": [
    "#Faça um programa que leia 5 números e informe a soma e a média dos números.\n",
    "\n",
    "#ler 5 números\n",
    "ls = [9, 5, 13, 4, 16]\n",
    "soma = 0\n",
    "\n",
    "for i in ls:\n",
    "    soma += i # += soma e transforma o resultado no novo valor da variável\n",
    "\n",
    "print (soma)\n",
    "print (soma/5)"
   ]
  },
  {
   "cell_type": "code",
   "execution_count": 7,
   "metadata": {},
   "outputs": [
    {
     "name": "stdout",
     "output_type": "stream",
     "text": [
      "[1, 3, 5, 7, 9, 11, 13, 15, 17, 19, 21, 23, 25, 27, 29, 31, 33, 35, 37, 39, 41, 43, 45, 47, 49]\n"
     ]
    }
   ],
   "source": [
    "#Faça um programa que imprima na tela apenas os números ímpares entre 1 e 50.\n",
    "\n",
    "num = list(range(1, 51, 2))\n",
    "print (num)"
   ]
  },
  {
   "cell_type": "code",
   "execution_count": 23,
   "metadata": {},
   "outputs": [
    {
     "name": "stdout",
     "output_type": "stream",
     "text": [
      "O menor número inserido foi 2 e o maior foi 8\n",
      "[2, 3, 4, 5, 6, 7, 8]\n"
     ]
    }
   ],
   "source": [
    "#Faça um programa que receba dois números inteiros e gere os números inteiros que estão no intervalo compreendido por eles.\n",
    "\n",
    "numX = int(input('Insira um número inteiro'))\n",
    "numY = int(input('Insira outro número inteiro'))\n",
    "if numX < numY:\n",
    "    resultado = list(range(numX, (numY+1), 1))\n",
    "    print (f'O menor número inserido foi {numX} e o maior foi {numY}')    \n",
    "elif numX > numY:\n",
    "    resultado = list(range(numY, (numX+1), 1))\n",
    "    print (f'O menor número inserido foi {numY} e o maior foi {numX}')\n",
    "print (resultado)"
   ]
  },
  {
   "cell_type": "code",
   "execution_count": 25,
   "metadata": {},
   "outputs": [
    {
     "name": "stdout",
     "output_type": "stream",
     "text": [
      "O menor número inserido foi 2 e o maior foi 8\n",
      "[2, 3, 4, 5, 6, 7, 8]\n",
      "A soma entrte eles é 35\n"
     ]
    }
   ],
   "source": [
    "#Altere o programa anterior para mostrar no final a soma dos números.\n",
    "\n",
    "numX = int(input('Insira um número inteiro'))\n",
    "numY = int(input('Insira outro número inteiro'))\n",
    "if numX < numY:\n",
    "    resultado = list(range(numX, (numY+1), 1))\n",
    "    print (f'O menor número inserido foi {numX} e o maior foi {numY}')    \n",
    "elif numX > numY:\n",
    "    resultado = list(range(numY, (numX+1), 1))\n",
    "    print (f'O menor número inserido foi {numY} e o maior foi {numX}')\n",
    "soma = sum(resultado)\n",
    "print (resultado)\n",
    "print(f'A soma entrte eles é {soma}')"
   ]
  },
  {
   "cell_type": "code",
   "execution_count": 39,
   "metadata": {},
   "outputs": [
    {
     "name": "stdout",
     "output_type": "stream",
     "text": [
      "8x1=8\n",
      "8x2=16\n",
      "8x3=24\n",
      "8x4=32\n",
      "8x5=40\n",
      "8x6=48\n",
      "8x7=56\n",
      "8x8=64\n",
      "8x9=72\n",
      "8x10=80\n"
     ]
    }
   ],
   "source": [
    "#Desenvolva um gerador de tabuada, capaz de gerar a tabuada de qualquer número inteiro entre 1 a 10. O usuário deve informar de qual numero ele deseja ver a tabuada\n",
    "\n",
    "# Um cáuculo embaixo do outro\n",
    "fatorA = int(input('Qual tabuada você deseja consultar?'))\n",
    "fatorZero = 0 \n",
    "\n",
    "while fatorZero < 10:\n",
    "    fatorZero += 1\n",
    "    produto = fatorA * fatorZero\n",
    "    print(f'{fatorA}x{fatorZero}={produto}')"
   ]
  },
  {
   "cell_type": "code",
   "execution_count": 7,
   "metadata": {},
   "outputs": [],
   "source": [
    "# Faça um programa que calcule o fatorial de um número inteiro fornecido pelo usuário. Ex.: 5!=5.4.3.2.1=120\n",
    "\n"
   ]
  },
  {
   "cell_type": "code",
   "execution_count": 6,
   "metadata": {},
   "outputs": [
    {
     "name": "stdout",
     "output_type": "stream",
     "text": [
      "maior = 8, menor = 2, soma = 14\n"
     ]
    }
   ],
   "source": [
    "# Faça um programa que, dado um conjunto de N números, determine o menor valor, o maior valor e a soma dos valores.\n",
    "\n",
    "ls = [2, 4, 8]\n",
    "\n",
    "print (f'maior = {max(ls)}, menor = {min(ls)}, soma = {sum(ls)}')"
   ]
  }
 ],
 "metadata": {
  "kernelspec": {
   "display_name": "Python 3",
   "language": "python",
   "name": "python3"
  },
  "language_info": {
   "codemirror_mode": {
    "name": "ipython",
    "version": 3
   },
   "file_extension": ".py",
   "mimetype": "text/x-python",
   "name": "python",
   "nbconvert_exporter": "python",
   "pygments_lexer": "ipython3",
   "version": "3.11.9"
  }
 },
 "nbformat": 4,
 "nbformat_minor": 2
}
